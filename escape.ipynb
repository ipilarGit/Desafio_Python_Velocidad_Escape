{
 "cells": [
  {
   "cell_type": "code",
   "execution_count": 1,
   "id": "a8ed4093",
   "metadata": {},
   "outputs": [],
   "source": [
    "# Contexto\n",
    "\n",
    "# La velocidad de escape de un planeta (la velocidad mínima necesaria para \n",
    "# poder salir de un planeta) está dada por la siguiente ecuación:\n",
    "# Ue = √2gr\n",
    "\n",
    "# Donde:\n",
    "# g : es la gravedad del planeta.\n",
    "# r : es el radio del planeta (en metros)."
   ]
  },
  {
   "cell_type": "code",
   "execution_count": 11,
   "id": "9fb1c25c",
   "metadata": {},
   "outputs": [
    {
     "name": "stdout",
     "output_type": "stream",
     "text": [
      "Ingrese gravedad de un planeta: 3\n",
      "Ingrese radio del planeta: 4\n",
      "La velocidad de escape es: 154.92 m/s aprox.\n"
     ]
    }
   ],
   "source": [
    "gravedad = float(input(\"Ingrese gravedad de un planeta: \"))\n",
    "radio = float(input(\"Ingrese radio del planeta: \"))\n",
    "km_a_metros = float(1000 * radio)\n",
    "velocidad_escape = (2 * gravedad * km_a_metros ) ** (1/2) \n",
    "print (\"La velocidad de escape es: {0:.2f} m/s aprox.\".format(velocidad_escape))"
   ]
  },
  {
   "cell_type": "code",
   "execution_count": 23,
   "id": "5ad531f9",
   "metadata": {},
   "outputs": [
    {
     "name": "stdout",
     "output_type": "stream",
     "text": [
      "\r\n",
      "               Gravedad y radio de los Planetas\r\n",
      "-----------------------------------------------------------------------\r\n",
      "Planeta Tierra   : (gravedad) g = 9.8   m/s^2  y (radio) r = 6371    km\r\n",
      "Planeta Mercurio : (gravedad) g = 3.7   m/s^2  y (radio) r = 2439.7  km\r\n",
      "Planeta Marte    : (gravedad) g = 3.721 m/s^2  y (radio) r = 3397.2  km\r\n",
      "Planeta Urano    : (gravedad) g = 8.87  m/s^2  y (radio) r = 25559   km\r\n",
      "Planeta Venus    : (gravedad) g = 8.87  m/s^2  y (radio) r = 6051.8  km\r\n",
      "Planeta Saturno  : (gravedad) g = 10.44 m/s^2  y (radio) r = 60268   km\r\n",
      "Planeta Jupiter  : (gravedad) g = 24.79 m/s^2  y (radio) r = 71492   km\r\n",
      "Planeta Neptuno  : (gravedad) g = 11.15 m/s^2  y (radio) r = 24746   km\r\n",
      "Planeta Plutón   : (gravedad) g = 0.62  m/s^2  y (radio) r = 1160    km\r\n",
      "-----------------------------------------------------------------------\r\n",
      "\r\n",
      "La velocidad de escape es: 11174.60 m/s aprox.\r\n"
     ]
    }
   ],
   "source": [
    "%%python escape.py 9.8 6371\n",
    "\n",
    "import sys\n",
    "import math\n",
    "\n",
    "print(\"\\n               Gravedad y radio de los Planetas\")\n",
    "print(\"-----------------------------------------------------------------------\")\n",
    "print(\"Planeta Tierra   : (gravedad) g = 9.8   m/s^2  y (radio) r = 6371    km\")\n",
    "print(\"Planeta Mercurio : (gravedad) g = 3.7   m/s^2  y (radio) r = 2439.7  km\")\n",
    "print(\"Planeta Marte    : (gravedad) g = 3.721 m/s^2  y (radio) r = 3397.2  km\")\n",
    "print(\"Planeta Urano    : (gravedad) g = 8.87  m/s^2  y (radio) r = 25559   km\")\n",
    "print(\"Planeta Venus    : (gravedad) g = 8.87  m/s^2  y (radio) r = 6051.8  km\")\n",
    "print(\"Planeta Saturno  : (gravedad) g = 10.44 m/s^2  y (radio) r = 60268   km\")\n",
    "print(\"Planeta Jupiter  : (gravedad) g = 24.79 m/s^2  y (radio) r = 71492   km\")\n",
    "print(\"Planeta Neptuno  : (gravedad) g = 11.15 m/s^2  y (radio) r = 24746   km\")\n",
    "print(\"Planeta Plutón   : (gravedad) g = 0.62  m/s^2  y (radio) r = 1160    km\")\n",
    "print(\"-----------------------------------------------------------------------\\n\")\n",
    "\n",
    "argumentos=len(sys.argv)\n",
    "if argumentos == 3:\n",
    "    gravedad = float(str(sys.argv[1]))\n",
    "    radio = float(str(sys.argv[2]))\n",
    "    radio = 1000 * radio\n",
    "    velocidad_escape = math.sqrt(2 * gravedad * radio) \n",
    "    print (\"La velocidad de escape es: {0:.2f} m/s aprox.\".format(velocidad_escape))\n",
    "else:\n",
    "    print(\"ERROR: Intodujo (1) ó (2) argumentos.\")\n",
    "    print(\"SOLUCION: Intoduce los argumentos correctamente.\")\n",
    "    print(\"\\nPara determinar la Velocidad de Escape, escribe por consola:\")\n",
    "    print(\"$ python escape.py valor_gravedad valor_radio\")\n",
    " "
   ]
  },
  {
   "cell_type": "code",
   "execution_count": null,
   "id": "16c831f9",
   "metadata": {},
   "outputs": [],
   "source": []
  }
 ],
 "metadata": {
  "kernelspec": {
   "display_name": "Python 3",
   "language": "python",
   "name": "python3"
  },
  "language_info": {
   "codemirror_mode": {
    "name": "ipython",
    "version": 3
   },
   "file_extension": ".py",
   "mimetype": "text/x-python",
   "name": "python",
   "nbconvert_exporter": "python",
   "pygments_lexer": "ipython3",
   "version": "3.8.8"
  }
 },
 "nbformat": 4,
 "nbformat_minor": 5
}
